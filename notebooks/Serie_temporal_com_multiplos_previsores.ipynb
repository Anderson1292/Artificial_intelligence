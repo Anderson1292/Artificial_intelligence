{
  "nbformat": 4,
  "nbformat_minor": 0,
  "metadata": {
    "colab": {
      "provenance": [],
      "authorship_tag": "ABX9TyMX2tU6EzSfVz9s2jTfNnPN",
      "include_colab_link": true
    },
    "kernelspec": {
      "name": "python3",
      "display_name": "Python 3"
    },
    "language_info": {
      "name": "python"
    },
    "accelerator": "GPU",
    "gpuClass": "standard"
  },
  "cells": [
    {
      "cell_type": "markdown",
      "metadata": {
        "id": "view-in-github",
        "colab_type": "text"
      },
      "source": [
        "<a href=\"https://colab.research.google.com/github/Anderson1292/Artificial_intelligence/blob/main/notebooks/Serie_temporal_com_multiplos_previsores.ipynb\" target=\"_parent\"><img src=\"https://colab.research.google.com/assets/colab-badge.svg\" alt=\"Open In Colab\"/></a>"
      ]
    },
    {
      "cell_type": "code",
      "execution_count": null,
      "metadata": {
        "id": "heFWFYlqJxXy"
      },
      "outputs": [],
      "source": [
        "import pandas as pd\n",
        "import numpy as np\n",
        "import matplotlib.pyplot as plt\n",
        "from keras.layers import Dense,Dropout,LSTM\n",
        "from keras.models import Sequential\n",
        "from keras.callbacks import ReduceLROnPlateau,ModelCheckpoint,EarlyStopping\n",
        "from sklearn.preprocessing import MinMaxScaler"
      ]
    },
    {
      "cell_type": "code",
      "source": [
        "base = pd.read_csv('petr4_treinamento.csv')\n",
        "base.head()"
      ],
      "metadata": {
        "colab": {
          "base_uri": "https://localhost:8080/",
          "height": 206
        },
        "id": "vkU0tjQoKWl3",
        "outputId": "585f9e3c-dbcd-4ee6-8f10-cc7901e28e46"
      },
      "execution_count": null,
      "outputs": [
        {
          "output_type": "execute_result",
          "data": {
            "text/plain": [
              "         Date       Open       High        Low      Close  Adj Close  \\\n",
              "0  2013-01-02  19.990000  20.209999  19.690001  19.690001  18.086271   \n",
              "1  2013-01-03  19.809999  20.400000  19.700001  20.400000  18.738441   \n",
              "2  2013-01-04  20.330000  20.620001  20.170000  20.430000  18.766001   \n",
              "3  2013-01-07  20.480000  20.670000  19.950001  20.080000  18.444506   \n",
              "4  2013-01-08  20.110001  20.230000  19.459999  19.500000  17.911745   \n",
              "\n",
              "       Volume  \n",
              "0  30182600.0  \n",
              "1  30552600.0  \n",
              "2  36141000.0  \n",
              "3  28069600.0  \n",
              "4  29091300.0  "
            ],
            "text/html": [
              "\n",
              "  <div id=\"df-a39d0ab6-3f30-48c1-b0af-9d0d649700b3\">\n",
              "    <div class=\"colab-df-container\">\n",
              "      <div>\n",
              "<style scoped>\n",
              "    .dataframe tbody tr th:only-of-type {\n",
              "        vertical-align: middle;\n",
              "    }\n",
              "\n",
              "    .dataframe tbody tr th {\n",
              "        vertical-align: top;\n",
              "    }\n",
              "\n",
              "    .dataframe thead th {\n",
              "        text-align: right;\n",
              "    }\n",
              "</style>\n",
              "<table border=\"1\" class=\"dataframe\">\n",
              "  <thead>\n",
              "    <tr style=\"text-align: right;\">\n",
              "      <th></th>\n",
              "      <th>Date</th>\n",
              "      <th>Open</th>\n",
              "      <th>High</th>\n",
              "      <th>Low</th>\n",
              "      <th>Close</th>\n",
              "      <th>Adj Close</th>\n",
              "      <th>Volume</th>\n",
              "    </tr>\n",
              "  </thead>\n",
              "  <tbody>\n",
              "    <tr>\n",
              "      <th>0</th>\n",
              "      <td>2013-01-02</td>\n",
              "      <td>19.990000</td>\n",
              "      <td>20.209999</td>\n",
              "      <td>19.690001</td>\n",
              "      <td>19.690001</td>\n",
              "      <td>18.086271</td>\n",
              "      <td>30182600.0</td>\n",
              "    </tr>\n",
              "    <tr>\n",
              "      <th>1</th>\n",
              "      <td>2013-01-03</td>\n",
              "      <td>19.809999</td>\n",
              "      <td>20.400000</td>\n",
              "      <td>19.700001</td>\n",
              "      <td>20.400000</td>\n",
              "      <td>18.738441</td>\n",
              "      <td>30552600.0</td>\n",
              "    </tr>\n",
              "    <tr>\n",
              "      <th>2</th>\n",
              "      <td>2013-01-04</td>\n",
              "      <td>20.330000</td>\n",
              "      <td>20.620001</td>\n",
              "      <td>20.170000</td>\n",
              "      <td>20.430000</td>\n",
              "      <td>18.766001</td>\n",
              "      <td>36141000.0</td>\n",
              "    </tr>\n",
              "    <tr>\n",
              "      <th>3</th>\n",
              "      <td>2013-01-07</td>\n",
              "      <td>20.480000</td>\n",
              "      <td>20.670000</td>\n",
              "      <td>19.950001</td>\n",
              "      <td>20.080000</td>\n",
              "      <td>18.444506</td>\n",
              "      <td>28069600.0</td>\n",
              "    </tr>\n",
              "    <tr>\n",
              "      <th>4</th>\n",
              "      <td>2013-01-08</td>\n",
              "      <td>20.110001</td>\n",
              "      <td>20.230000</td>\n",
              "      <td>19.459999</td>\n",
              "      <td>19.500000</td>\n",
              "      <td>17.911745</td>\n",
              "      <td>29091300.0</td>\n",
              "    </tr>\n",
              "  </tbody>\n",
              "</table>\n",
              "</div>\n",
              "      <button class=\"colab-df-convert\" onclick=\"convertToInteractive('df-a39d0ab6-3f30-48c1-b0af-9d0d649700b3')\"\n",
              "              title=\"Convert this dataframe to an interactive table.\"\n",
              "              style=\"display:none;\">\n",
              "        \n",
              "  <svg xmlns=\"http://www.w3.org/2000/svg\" height=\"24px\"viewBox=\"0 0 24 24\"\n",
              "       width=\"24px\">\n",
              "    <path d=\"M0 0h24v24H0V0z\" fill=\"none\"/>\n",
              "    <path d=\"M18.56 5.44l.94 2.06.94-2.06 2.06-.94-2.06-.94-.94-2.06-.94 2.06-2.06.94zm-11 1L8.5 8.5l.94-2.06 2.06-.94-2.06-.94L8.5 2.5l-.94 2.06-2.06.94zm10 10l.94 2.06.94-2.06 2.06-.94-2.06-.94-.94-2.06-.94 2.06-2.06.94z\"/><path d=\"M17.41 7.96l-1.37-1.37c-.4-.4-.92-.59-1.43-.59-.52 0-1.04.2-1.43.59L10.3 9.45l-7.72 7.72c-.78.78-.78 2.05 0 2.83L4 21.41c.39.39.9.59 1.41.59.51 0 1.02-.2 1.41-.59l7.78-7.78 2.81-2.81c.8-.78.8-2.07 0-2.86zM5.41 20L4 18.59l7.72-7.72 1.47 1.35L5.41 20z\"/>\n",
              "  </svg>\n",
              "      </button>\n",
              "      \n",
              "  <style>\n",
              "    .colab-df-container {\n",
              "      display:flex;\n",
              "      flex-wrap:wrap;\n",
              "      gap: 12px;\n",
              "    }\n",
              "\n",
              "    .colab-df-convert {\n",
              "      background-color: #E8F0FE;\n",
              "      border: none;\n",
              "      border-radius: 50%;\n",
              "      cursor: pointer;\n",
              "      display: none;\n",
              "      fill: #1967D2;\n",
              "      height: 32px;\n",
              "      padding: 0 0 0 0;\n",
              "      width: 32px;\n",
              "    }\n",
              "\n",
              "    .colab-df-convert:hover {\n",
              "      background-color: #E2EBFA;\n",
              "      box-shadow: 0px 1px 2px rgba(60, 64, 67, 0.3), 0px 1px 3px 1px rgba(60, 64, 67, 0.15);\n",
              "      fill: #174EA6;\n",
              "    }\n",
              "\n",
              "    [theme=dark] .colab-df-convert {\n",
              "      background-color: #3B4455;\n",
              "      fill: #D2E3FC;\n",
              "    }\n",
              "\n",
              "    [theme=dark] .colab-df-convert:hover {\n",
              "      background-color: #434B5C;\n",
              "      box-shadow: 0px 1px 3px 1px rgba(0, 0, 0, 0.15);\n",
              "      filter: drop-shadow(0px 1px 2px rgba(0, 0, 0, 0.3));\n",
              "      fill: #FFFFFF;\n",
              "    }\n",
              "  </style>\n",
              "\n",
              "      <script>\n",
              "        const buttonEl =\n",
              "          document.querySelector('#df-a39d0ab6-3f30-48c1-b0af-9d0d649700b3 button.colab-df-convert');\n",
              "        buttonEl.style.display =\n",
              "          google.colab.kernel.accessAllowed ? 'block' : 'none';\n",
              "\n",
              "        async function convertToInteractive(key) {\n",
              "          const element = document.querySelector('#df-a39d0ab6-3f30-48c1-b0af-9d0d649700b3');\n",
              "          const dataTable =\n",
              "            await google.colab.kernel.invokeFunction('convertToInteractive',\n",
              "                                                     [key], {});\n",
              "          if (!dataTable) return;\n",
              "\n",
              "          const docLinkHtml = 'Like what you see? Visit the ' +\n",
              "            '<a target=\"_blank\" href=https://colab.research.google.com/notebooks/data_table.ipynb>data table notebook</a>'\n",
              "            + ' to learn more about interactive tables.';\n",
              "          element.innerHTML = '';\n",
              "          dataTable['output_type'] = 'display_data';\n",
              "          await google.colab.output.renderOutput(dataTable, element);\n",
              "          const docLink = document.createElement('div');\n",
              "          docLink.innerHTML = docLinkHtml;\n",
              "          element.appendChild(docLink);\n",
              "        }\n",
              "      </script>\n",
              "    </div>\n",
              "  </div>\n",
              "  "
            ]
          },
          "metadata": {},
          "execution_count": 2
        }
      ]
    },
    {
      "cell_type": "code",
      "source": [
        "base = base.dropna()"
      ],
      "metadata": {
        "id": "lRD63zVFKngR"
      },
      "execution_count": null,
      "outputs": []
    },
    {
      "cell_type": "code",
      "source": [
        "base_train = base.iloc[:,1:7].values"
      ],
      "metadata": {
        "id": "YqKBsMzAKrIB"
      },
      "execution_count": null,
      "outputs": []
    },
    {
      "cell_type": "code",
      "source": [
        "#Normalization of values\n",
        "normalized = MinMaxScaler(feature_range=(0,1))\n",
        "base_train_norm = normalized.fit_transform(base_train)"
      ],
      "metadata": {
        "id": "ivjerCjjLDbH"
      },
      "execution_count": null,
      "outputs": []
    },
    {
      "cell_type": "code",
      "source": [
        "normalized_predictors = MinMaxScaler(feature_range=(0,1))\n",
        "normalized_predictors.fit_transform(base_train[:,0:1])"
      ],
      "metadata": {
        "id": "kQC0pkwgS-UY"
      },
      "execution_count": null,
      "outputs": []
    },
    {
      "cell_type": "code",
      "source": [
        "predictors = []\n",
        "real_price = []\n",
        "\n",
        "for i in range(90,1242):\n",
        "  predictors.append(base_train_norm[i-90:i,0:6])\n",
        "  real_price.append(base_train_norm[i,0])\n",
        "predictors,real_price = np.array(predictors),np.array(real_price)"
      ],
      "metadata": {
        "id": "BpjGjnBdLh7R"
      },
      "execution_count": null,
      "outputs": []
    },
    {
      "cell_type": "code",
      "source": [
        "model = Sequential()\n",
        "model.add(LSTM(100,return_sequences=True,input_shape=(predictors.shape[1],6)))\n",
        "model.add(Dropout(0.25))\n",
        "\n",
        "model.add(LSTM(50,return_sequences=True))\n",
        "model.add(Dropout(0.25))\n",
        "\n",
        "model.add(LSTM(50,return_sequences=True))\n",
        "model.add(Dropout(0.25))\n",
        "\n",
        "model.add(LSTM(50))\n",
        "model.add(Dropout(0.25))\n",
        "model.add(Dense(1,activation='sigmoid'))\n",
        "model.compile(optimizer='rmsprop',loss='mean_squared_error',metrics=['mean_absolute_error'])"
      ],
      "metadata": {
        "id": "OhSAOJRDMU21"
      },
      "execution_count": null,
      "outputs": []
    },
    {
      "cell_type": "code",
      "source": [
        "# model.fit(predictors,real_price,epochs=100,batch_size=32)\n",
        "early = EarlyStopping(monitor='loss',min_delta=1e-10,patience=10,verbose=1)\n",
        "reduce = ReduceLROnPlateau(monitor='loss',factor=0.2,patience=5,verbose=1)\n",
        "model_check = ModelCheckpoint(filepath='weights.h5',monitor='loss',save_best_only=True,verbose=1)"
      ],
      "metadata": {
        "id": "ooTUO4SLOH-s"
      },
      "execution_count": null,
      "outputs": []
    },
    {
      "cell_type": "code",
      "source": [
        "model.fit(predictors,real_price,epochs=100,batch_size=32,\n",
        "          callbacks=[early,reduce,model_check])"
      ],
      "metadata": {
        "colab": {
          "base_uri": "https://localhost:8080/"
        },
        "id": "zc0xQwusUedP",
        "outputId": "4a189a4d-1445-4065-e801-18e29f21bf46"
      },
      "execution_count": null,
      "outputs": [
        {
          "output_type": "stream",
          "name": "stdout",
          "text": [
            "Epoch 1/100\n",
            "34/36 [===========================>..] - ETA: 0s - loss: 0.0189 - mean_absolute_error: 0.1078\n",
            "Epoch 1: loss improved from inf to 0.01810, saving model to weights.h5\n",
            "36/36 [==============================] - 10s 21ms/step - loss: 0.0181 - mean_absolute_error: 0.1047 - lr: 0.0010\n",
            "Epoch 2/100\n",
            "34/36 [===========================>..] - ETA: 0s - loss: 0.0072 - mean_absolute_error: 0.0670\n",
            "Epoch 2: loss improved from 0.01810 to 0.00773, saving model to weights.h5\n",
            "36/36 [==============================] - 1s 20ms/step - loss: 0.0077 - mean_absolute_error: 0.0693 - lr: 0.0010\n",
            "Epoch 3/100\n",
            "34/36 [===========================>..] - ETA: 0s - loss: 0.0059 - mean_absolute_error: 0.0597\n",
            "Epoch 3: loss improved from 0.00773 to 0.00580, saving model to weights.h5\n",
            "36/36 [==============================] - 1s 19ms/step - loss: 0.0058 - mean_absolute_error: 0.0593 - lr: 0.0010\n",
            "Epoch 4/100\n",
            "34/36 [===========================>..] - ETA: 0s - loss: 0.0044 - mean_absolute_error: 0.0521\n",
            "Epoch 4: loss improved from 0.00580 to 0.00464, saving model to weights.h5\n",
            "36/36 [==============================] - 1s 20ms/step - loss: 0.0046 - mean_absolute_error: 0.0533 - lr: 0.0010\n",
            "Epoch 5/100\n",
            "36/36 [==============================] - ETA: 0s - loss: 0.0043 - mean_absolute_error: 0.0514\n",
            "Epoch 5: loss improved from 0.00464 to 0.00428, saving model to weights.h5\n",
            "36/36 [==============================] - 1s 19ms/step - loss: 0.0043 - mean_absolute_error: 0.0514 - lr: 0.0010\n",
            "Epoch 6/100\n",
            "35/36 [============================>.] - ETA: 0s - loss: 0.0040 - mean_absolute_error: 0.0492\n",
            "Epoch 6: loss improved from 0.00428 to 0.00416, saving model to weights.h5\n",
            "36/36 [==============================] - 1s 18ms/step - loss: 0.0042 - mean_absolute_error: 0.0495 - lr: 0.0010\n",
            "Epoch 7/100\n",
            "34/36 [===========================>..] - ETA: 0s - loss: 0.0036 - mean_absolute_error: 0.0455\n",
            "Epoch 7: loss improved from 0.00416 to 0.00388, saving model to weights.h5\n",
            "36/36 [==============================] - 1s 19ms/step - loss: 0.0039 - mean_absolute_error: 0.0471 - lr: 0.0010\n",
            "Epoch 8/100\n",
            "34/36 [===========================>..] - ETA: 0s - loss: 0.0030 - mean_absolute_error: 0.0428\n",
            "Epoch 8: loss improved from 0.00388 to 0.00304, saving model to weights.h5\n",
            "36/36 [==============================] - 1s 19ms/step - loss: 0.0030 - mean_absolute_error: 0.0432 - lr: 0.0010\n",
            "Epoch 9/100\n",
            "35/36 [============================>.] - ETA: 0s - loss: 0.0034 - mean_absolute_error: 0.0445\n",
            "Epoch 9: loss did not improve from 0.00304\n",
            "36/36 [==============================] - 1s 18ms/step - loss: 0.0035 - mean_absolute_error: 0.0451 - lr: 0.0010\n",
            "Epoch 10/100\n",
            "34/36 [===========================>..] - ETA: 0s - loss: 0.0030 - mean_absolute_error: 0.0426\n",
            "Epoch 10: loss improved from 0.00304 to 0.00296, saving model to weights.h5\n",
            "36/36 [==============================] - 1s 19ms/step - loss: 0.0030 - mean_absolute_error: 0.0421 - lr: 0.0010\n",
            "Epoch 11/100\n",
            "35/36 [============================>.] - ETA: 0s - loss: 0.0025 - mean_absolute_error: 0.0381\n",
            "Epoch 11: loss improved from 0.00296 to 0.00249, saving model to weights.h5\n",
            "36/36 [==============================] - 1s 19ms/step - loss: 0.0025 - mean_absolute_error: 0.0381 - lr: 0.0010\n",
            "Epoch 12/100\n",
            "34/36 [===========================>..] - ETA: 0s - loss: 0.0027 - mean_absolute_error: 0.0397\n",
            "Epoch 12: loss did not improve from 0.00249\n",
            "36/36 [==============================] - 1s 18ms/step - loss: 0.0026 - mean_absolute_error: 0.0396 - lr: 0.0010\n",
            "Epoch 13/100\n",
            "34/36 [===========================>..] - ETA: 0s - loss: 0.0026 - mean_absolute_error: 0.0383\n",
            "Epoch 13: loss did not improve from 0.00249\n",
            "36/36 [==============================] - 1s 20ms/step - loss: 0.0025 - mean_absolute_error: 0.0380 - lr: 0.0010\n",
            "Epoch 14/100\n",
            "34/36 [===========================>..] - ETA: 0s - loss: 0.0024 - mean_absolute_error: 0.0382\n",
            "Epoch 14: loss improved from 0.00249 to 0.00241, saving model to weights.h5\n",
            "36/36 [==============================] - 1s 20ms/step - loss: 0.0024 - mean_absolute_error: 0.0380 - lr: 0.0010\n",
            "Epoch 15/100\n",
            "34/36 [===========================>..] - ETA: 0s - loss: 0.0023 - mean_absolute_error: 0.0369\n",
            "Epoch 15: loss improved from 0.00241 to 0.00225, saving model to weights.h5\n",
            "36/36 [==============================] - 1s 19ms/step - loss: 0.0023 - mean_absolute_error: 0.0363 - lr: 0.0010\n",
            "Epoch 16/100\n",
            "35/36 [============================>.] - ETA: 0s - loss: 0.0022 - mean_absolute_error: 0.0356\n",
            "Epoch 16: loss improved from 0.00225 to 0.00215, saving model to weights.h5\n",
            "36/36 [==============================] - 1s 19ms/step - loss: 0.0021 - mean_absolute_error: 0.0355 - lr: 0.0010\n",
            "Epoch 17/100\n",
            "34/36 [===========================>..] - ETA: 0s - loss: 0.0022 - mean_absolute_error: 0.0365\n",
            "Epoch 17: loss improved from 0.00215 to 0.00213, saving model to weights.h5\n",
            "36/36 [==============================] - 1s 19ms/step - loss: 0.0021 - mean_absolute_error: 0.0360 - lr: 0.0010\n",
            "Epoch 18/100\n",
            "34/36 [===========================>..] - ETA: 0s - loss: 0.0020 - mean_absolute_error: 0.0338\n",
            "Epoch 18: loss improved from 0.00213 to 0.00196, saving model to weights.h5\n",
            "36/36 [==============================] - 1s 19ms/step - loss: 0.0020 - mean_absolute_error: 0.0337 - lr: 0.0010\n",
            "Epoch 19/100\n",
            "34/36 [===========================>..] - ETA: 0s - loss: 0.0019 - mean_absolute_error: 0.0336\n",
            "Epoch 19: loss did not improve from 0.00196\n",
            "36/36 [==============================] - 1s 18ms/step - loss: 0.0020 - mean_absolute_error: 0.0341 - lr: 0.0010\n",
            "Epoch 20/100\n",
            "34/36 [===========================>..] - ETA: 0s - loss: 0.0016 - mean_absolute_error: 0.0306\n",
            "Epoch 20: loss improved from 0.00196 to 0.00165, saving model to weights.h5\n",
            "36/36 [==============================] - 1s 20ms/step - loss: 0.0016 - mean_absolute_error: 0.0310 - lr: 0.0010\n",
            "Epoch 21/100\n",
            "34/36 [===========================>..] - ETA: 0s - loss: 0.0018 - mean_absolute_error: 0.0327\n",
            "Epoch 21: loss did not improve from 0.00165\n",
            "36/36 [==============================] - 1s 18ms/step - loss: 0.0018 - mean_absolute_error: 0.0325 - lr: 0.0010\n",
            "Epoch 22/100\n",
            "34/36 [===========================>..] - ETA: 0s - loss: 0.0019 - mean_absolute_error: 0.0323\n",
            "Epoch 22: loss did not improve from 0.00165\n",
            "36/36 [==============================] - 1s 18ms/step - loss: 0.0018 - mean_absolute_error: 0.0317 - lr: 0.0010\n",
            "Epoch 23/100\n",
            "34/36 [===========================>..] - ETA: 0s - loss: 0.0018 - mean_absolute_error: 0.0321\n",
            "Epoch 23: loss did not improve from 0.00165\n",
            "36/36 [==============================] - 1s 18ms/step - loss: 0.0017 - mean_absolute_error: 0.0316 - lr: 0.0010\n",
            "Epoch 24/100\n",
            "34/36 [===========================>..] - ETA: 0s - loss: 0.0017 - mean_absolute_error: 0.0306\n",
            "Epoch 24: loss improved from 0.00165 to 0.00163, saving model to weights.h5\n",
            "36/36 [==============================] - 1s 19ms/step - loss: 0.0016 - mean_absolute_error: 0.0305 - lr: 0.0010\n",
            "Epoch 25/100\n",
            "34/36 [===========================>..] - ETA: 0s - loss: 0.0018 - mean_absolute_error: 0.0318\n",
            "Epoch 25: ReduceLROnPlateau reducing learning rate to 0.00020000000949949026.\n",
            "\n",
            "Epoch 25: loss did not improve from 0.00163\n",
            "36/36 [==============================] - 1s 18ms/step - loss: 0.0017 - mean_absolute_error: 0.0315 - lr: 0.0010\n",
            "Epoch 26/100\n",
            "34/36 [===========================>..] - ETA: 0s - loss: 0.0012 - mean_absolute_error: 0.0251\n",
            "Epoch 26: loss improved from 0.00163 to 0.00115, saving model to weights.h5\n",
            "36/36 [==============================] - 1s 19ms/step - loss: 0.0011 - mean_absolute_error: 0.0249 - lr: 2.0000e-04\n",
            "Epoch 27/100\n",
            "34/36 [===========================>..] - ETA: 0s - loss: 0.0011 - mean_absolute_error: 0.0243\n",
            "Epoch 27: loss improved from 0.00115 to 0.00110, saving model to weights.h5\n",
            "36/36 [==============================] - 1s 19ms/step - loss: 0.0011 - mean_absolute_error: 0.0245 - lr: 2.0000e-04\n",
            "Epoch 28/100\n",
            "34/36 [===========================>..] - ETA: 0s - loss: 0.0010 - mean_absolute_error: 0.0241\n",
            "Epoch 28: loss improved from 0.00110 to 0.00104, saving model to weights.h5\n",
            "36/36 [==============================] - 1s 19ms/step - loss: 0.0010 - mean_absolute_error: 0.0241 - lr: 2.0000e-04\n",
            "Epoch 29/100\n",
            "34/36 [===========================>..] - ETA: 0s - loss: 0.0012 - mean_absolute_error: 0.0252\n",
            "Epoch 29: loss did not improve from 0.00104\n",
            "36/36 [==============================] - 1s 19ms/step - loss: 0.0012 - mean_absolute_error: 0.0251 - lr: 2.0000e-04\n",
            "Epoch 30/100\n",
            "34/36 [===========================>..] - ETA: 0s - loss: 0.0010 - mean_absolute_error: 0.0237\n",
            "Epoch 30: loss improved from 0.00104 to 0.00103, saving model to weights.h5\n",
            "36/36 [==============================] - 1s 19ms/step - loss: 0.0010 - mean_absolute_error: 0.0236 - lr: 2.0000e-04\n",
            "Epoch 31/100\n",
            "34/36 [===========================>..] - ETA: 0s - loss: 0.0011 - mean_absolute_error: 0.0240\n",
            "Epoch 31: loss did not improve from 0.00103\n",
            "36/36 [==============================] - 1s 18ms/step - loss: 0.0011 - mean_absolute_error: 0.0241 - lr: 2.0000e-04\n",
            "Epoch 32/100\n",
            "34/36 [===========================>..] - ETA: 0s - loss: 0.0010 - mean_absolute_error: 0.0238\n",
            "Epoch 32: loss did not improve from 0.00103\n",
            "36/36 [==============================] - 1s 19ms/step - loss: 0.0010 - mean_absolute_error: 0.0236 - lr: 2.0000e-04\n",
            "Epoch 33/100\n",
            "34/36 [===========================>..] - ETA: 0s - loss: 0.0010 - mean_absolute_error: 0.0235\n",
            "Epoch 33: ReduceLROnPlateau reducing learning rate to 4.0000001899898055e-05.\n",
            "\n",
            "Epoch 33: loss improved from 0.00103 to 0.00101, saving model to weights.h5\n",
            "36/36 [==============================] - 1s 20ms/step - loss: 0.0010 - mean_absolute_error: 0.0233 - lr: 2.0000e-04\n",
            "Epoch 34/100\n",
            "34/36 [===========================>..] - ETA: 0s - loss: 0.0010 - mean_absolute_error: 0.0239\n",
            "Epoch 34: loss did not improve from 0.00101\n",
            "36/36 [==============================] - 1s 18ms/step - loss: 0.0010 - mean_absolute_error: 0.0238 - lr: 4.0000e-05\n",
            "Epoch 35/100\n",
            "34/36 [===========================>..] - ETA: 0s - loss: 9.7080e-04 - mean_absolute_error: 0.0231\n",
            "Epoch 35: loss improved from 0.00101 to 0.00098, saving model to weights.h5\n",
            "36/36 [==============================] - 1s 19ms/step - loss: 9.7923e-04 - mean_absolute_error: 0.0232 - lr: 4.0000e-05\n",
            "Epoch 36/100\n",
            "36/36 [==============================] - ETA: 0s - loss: 0.0010 - mean_absolute_error: 0.0233\n",
            "Epoch 36: loss did not improve from 0.00098\n",
            "36/36 [==============================] - 1s 19ms/step - loss: 0.0010 - mean_absolute_error: 0.0233 - lr: 4.0000e-05\n",
            "Epoch 37/100\n",
            "34/36 [===========================>..] - ETA: 0s - loss: 8.8531e-04 - mean_absolute_error: 0.0221\n",
            "Epoch 37: loss improved from 0.00098 to 0.00090, saving model to weights.h5\n",
            "36/36 [==============================] - 1s 19ms/step - loss: 8.9613e-04 - mean_absolute_error: 0.0222 - lr: 4.0000e-05\n",
            "Epoch 38/100\n",
            "34/36 [===========================>..] - ETA: 0s - loss: 0.0010 - mean_absolute_error: 0.0239\n",
            "Epoch 38: loss did not improve from 0.00090\n",
            "36/36 [==============================] - 1s 18ms/step - loss: 0.0010 - mean_absolute_error: 0.0237 - lr: 4.0000e-05\n",
            "Epoch 39/100\n",
            "34/36 [===========================>..] - ETA: 0s - loss: 9.6685e-04 - mean_absolute_error: 0.0224\n",
            "Epoch 39: loss did not improve from 0.00090\n",
            "36/36 [==============================] - 1s 18ms/step - loss: 9.7349e-04 - mean_absolute_error: 0.0226 - lr: 4.0000e-05\n",
            "Epoch 40/100\n",
            "34/36 [===========================>..] - ETA: 0s - loss: 9.4780e-04 - mean_absolute_error: 0.0225\n",
            "Epoch 40: loss did not improve from 0.00090\n",
            "36/36 [==============================] - 1s 18ms/step - loss: 9.4111e-04 - mean_absolute_error: 0.0224 - lr: 4.0000e-05\n",
            "Epoch 41/100\n",
            "34/36 [===========================>..] - ETA: 0s - loss: 0.0010 - mean_absolute_error: 0.0236\n",
            "Epoch 41: loss did not improve from 0.00090\n",
            "36/36 [==============================] - 1s 18ms/step - loss: 9.8287e-04 - mean_absolute_error: 0.0233 - lr: 4.0000e-05\n",
            "Epoch 42/100\n",
            "34/36 [===========================>..] - ETA: 0s - loss: 9.7274e-04 - mean_absolute_error: 0.0229\n",
            "Epoch 42: ReduceLROnPlateau reducing learning rate to 8.000000525498762e-06.\n",
            "\n",
            "Epoch 42: loss did not improve from 0.00090\n",
            "36/36 [==============================] - 1s 18ms/step - loss: 9.5587e-04 - mean_absolute_error: 0.0227 - lr: 4.0000e-05\n",
            "Epoch 43/100\n",
            "34/36 [===========================>..] - ETA: 0s - loss: 9.7775e-04 - mean_absolute_error: 0.0224\n",
            "Epoch 43: loss did not improve from 0.00090\n",
            "36/36 [==============================] - 1s 19ms/step - loss: 9.7073e-04 - mean_absolute_error: 0.0222 - lr: 8.0000e-06\n",
            "Epoch 44/100\n",
            "34/36 [===========================>..] - ETA: 0s - loss: 9.1922e-04 - mean_absolute_error: 0.0226\n",
            "Epoch 44: loss did not improve from 0.00090\n",
            "36/36 [==============================] - 1s 18ms/step - loss: 9.2946e-04 - mean_absolute_error: 0.0225 - lr: 8.0000e-06\n",
            "Epoch 45/100\n",
            "34/36 [===========================>..] - ETA: 0s - loss: 9.1643e-04 - mean_absolute_error: 0.0220\n",
            "Epoch 45: loss did not improve from 0.00090\n",
            "36/36 [==============================] - 1s 18ms/step - loss: 9.2833e-04 - mean_absolute_error: 0.0220 - lr: 8.0000e-06\n",
            "Epoch 46/100\n",
            "34/36 [===========================>..] - ETA: 0s - loss: 9.7193e-04 - mean_absolute_error: 0.0230\n",
            "Epoch 46: loss did not improve from 0.00090\n",
            "36/36 [==============================] - 1s 19ms/step - loss: 9.6467e-04 - mean_absolute_error: 0.0230 - lr: 8.0000e-06\n",
            "Epoch 47/100\n",
            "34/36 [===========================>..] - ETA: 0s - loss: 9.0100e-04 - mean_absolute_error: 0.0221\n",
            "Epoch 47: ReduceLROnPlateau reducing learning rate to 1.6000001778593287e-06.\n",
            "\n",
            "Epoch 47: loss did not improve from 0.00090\n",
            "36/36 [==============================] - 1s 18ms/step - loss: 9.2222e-04 - mean_absolute_error: 0.0224 - lr: 8.0000e-06\n",
            "Epoch 47: early stopping\n"
          ]
        },
        {
          "output_type": "execute_result",
          "data": {
            "text/plain": [
              "<keras.callbacks.History at 0x7f3e5c7370d0>"
            ]
          },
          "metadata": {},
          "execution_count": 9
        }
      ]
    },
    {
      "cell_type": "code",
      "source": [
        "#Refazendo os mesmos passos para o aquivo de teste\n",
        "base_test = pd.read_csv('petr4_teste.csv')\n",
        "base_test.head()"
      ],
      "metadata": {
        "colab": {
          "base_uri": "https://localhost:8080/",
          "height": 206
        },
        "id": "2QOW9F4VXAJV",
        "outputId": "c6a1883f-1885-4525-e06e-1a4c2be9b27d"
      },
      "execution_count": null,
      "outputs": [
        {
          "output_type": "execute_result",
          "data": {
            "text/plain": [
              "         Date       Open       High        Low      Close  Adj Close    Volume\n",
              "0  2018-01-02  16.190001  16.549999  16.190001  16.549999  16.516966  33461800\n",
              "1  2018-01-03  16.490000  16.719999  16.370001  16.700001  16.666668  55940900\n",
              "2  2018-01-04  16.780001  16.959999  16.620001  16.730000  16.696608  37064900\n",
              "3  2018-01-05  16.700001  16.860001  16.570000  16.830000  16.796408  26958200\n",
              "4  2018-01-08  16.740000  17.030001  16.709999  17.030001  16.996010  28400000"
            ],
            "text/html": [
              "\n",
              "  <div id=\"df-d032c6d1-2e8f-497d-b62b-c67b91284e2b\">\n",
              "    <div class=\"colab-df-container\">\n",
              "      <div>\n",
              "<style scoped>\n",
              "    .dataframe tbody tr th:only-of-type {\n",
              "        vertical-align: middle;\n",
              "    }\n",
              "\n",
              "    .dataframe tbody tr th {\n",
              "        vertical-align: top;\n",
              "    }\n",
              "\n",
              "    .dataframe thead th {\n",
              "        text-align: right;\n",
              "    }\n",
              "</style>\n",
              "<table border=\"1\" class=\"dataframe\">\n",
              "  <thead>\n",
              "    <tr style=\"text-align: right;\">\n",
              "      <th></th>\n",
              "      <th>Date</th>\n",
              "      <th>Open</th>\n",
              "      <th>High</th>\n",
              "      <th>Low</th>\n",
              "      <th>Close</th>\n",
              "      <th>Adj Close</th>\n",
              "      <th>Volume</th>\n",
              "    </tr>\n",
              "  </thead>\n",
              "  <tbody>\n",
              "    <tr>\n",
              "      <th>0</th>\n",
              "      <td>2018-01-02</td>\n",
              "      <td>16.190001</td>\n",
              "      <td>16.549999</td>\n",
              "      <td>16.190001</td>\n",
              "      <td>16.549999</td>\n",
              "      <td>16.516966</td>\n",
              "      <td>33461800</td>\n",
              "    </tr>\n",
              "    <tr>\n",
              "      <th>1</th>\n",
              "      <td>2018-01-03</td>\n",
              "      <td>16.490000</td>\n",
              "      <td>16.719999</td>\n",
              "      <td>16.370001</td>\n",
              "      <td>16.700001</td>\n",
              "      <td>16.666668</td>\n",
              "      <td>55940900</td>\n",
              "    </tr>\n",
              "    <tr>\n",
              "      <th>2</th>\n",
              "      <td>2018-01-04</td>\n",
              "      <td>16.780001</td>\n",
              "      <td>16.959999</td>\n",
              "      <td>16.620001</td>\n",
              "      <td>16.730000</td>\n",
              "      <td>16.696608</td>\n",
              "      <td>37064900</td>\n",
              "    </tr>\n",
              "    <tr>\n",
              "      <th>3</th>\n",
              "      <td>2018-01-05</td>\n",
              "      <td>16.700001</td>\n",
              "      <td>16.860001</td>\n",
              "      <td>16.570000</td>\n",
              "      <td>16.830000</td>\n",
              "      <td>16.796408</td>\n",
              "      <td>26958200</td>\n",
              "    </tr>\n",
              "    <tr>\n",
              "      <th>4</th>\n",
              "      <td>2018-01-08</td>\n",
              "      <td>16.740000</td>\n",
              "      <td>17.030001</td>\n",
              "      <td>16.709999</td>\n",
              "      <td>17.030001</td>\n",
              "      <td>16.996010</td>\n",
              "      <td>28400000</td>\n",
              "    </tr>\n",
              "  </tbody>\n",
              "</table>\n",
              "</div>\n",
              "      <button class=\"colab-df-convert\" onclick=\"convertToInteractive('df-d032c6d1-2e8f-497d-b62b-c67b91284e2b')\"\n",
              "              title=\"Convert this dataframe to an interactive table.\"\n",
              "              style=\"display:none;\">\n",
              "        \n",
              "  <svg xmlns=\"http://www.w3.org/2000/svg\" height=\"24px\"viewBox=\"0 0 24 24\"\n",
              "       width=\"24px\">\n",
              "    <path d=\"M0 0h24v24H0V0z\" fill=\"none\"/>\n",
              "    <path d=\"M18.56 5.44l.94 2.06.94-2.06 2.06-.94-2.06-.94-.94-2.06-.94 2.06-2.06.94zm-11 1L8.5 8.5l.94-2.06 2.06-.94-2.06-.94L8.5 2.5l-.94 2.06-2.06.94zm10 10l.94 2.06.94-2.06 2.06-.94-2.06-.94-.94-2.06-.94 2.06-2.06.94z\"/><path d=\"M17.41 7.96l-1.37-1.37c-.4-.4-.92-.59-1.43-.59-.52 0-1.04.2-1.43.59L10.3 9.45l-7.72 7.72c-.78.78-.78 2.05 0 2.83L4 21.41c.39.39.9.59 1.41.59.51 0 1.02-.2 1.41-.59l7.78-7.78 2.81-2.81c.8-.78.8-2.07 0-2.86zM5.41 20L4 18.59l7.72-7.72 1.47 1.35L5.41 20z\"/>\n",
              "  </svg>\n",
              "      </button>\n",
              "      \n",
              "  <style>\n",
              "    .colab-df-container {\n",
              "      display:flex;\n",
              "      flex-wrap:wrap;\n",
              "      gap: 12px;\n",
              "    }\n",
              "\n",
              "    .colab-df-convert {\n",
              "      background-color: #E8F0FE;\n",
              "      border: none;\n",
              "      border-radius: 50%;\n",
              "      cursor: pointer;\n",
              "      display: none;\n",
              "      fill: #1967D2;\n",
              "      height: 32px;\n",
              "      padding: 0 0 0 0;\n",
              "      width: 32px;\n",
              "    }\n",
              "\n",
              "    .colab-df-convert:hover {\n",
              "      background-color: #E2EBFA;\n",
              "      box-shadow: 0px 1px 2px rgba(60, 64, 67, 0.3), 0px 1px 3px 1px rgba(60, 64, 67, 0.15);\n",
              "      fill: #174EA6;\n",
              "    }\n",
              "\n",
              "    [theme=dark] .colab-df-convert {\n",
              "      background-color: #3B4455;\n",
              "      fill: #D2E3FC;\n",
              "    }\n",
              "\n",
              "    [theme=dark] .colab-df-convert:hover {\n",
              "      background-color: #434B5C;\n",
              "      box-shadow: 0px 1px 3px 1px rgba(0, 0, 0, 0.15);\n",
              "      filter: drop-shadow(0px 1px 2px rgba(0, 0, 0, 0.3));\n",
              "      fill: #FFFFFF;\n",
              "    }\n",
              "  </style>\n",
              "\n",
              "      <script>\n",
              "        const buttonEl =\n",
              "          document.querySelector('#df-d032c6d1-2e8f-497d-b62b-c67b91284e2b button.colab-df-convert');\n",
              "        buttonEl.style.display =\n",
              "          google.colab.kernel.accessAllowed ? 'block' : 'none';\n",
              "\n",
              "        async function convertToInteractive(key) {\n",
              "          const element = document.querySelector('#df-d032c6d1-2e8f-497d-b62b-c67b91284e2b');\n",
              "          const dataTable =\n",
              "            await google.colab.kernel.invokeFunction('convertToInteractive',\n",
              "                                                     [key], {});\n",
              "          if (!dataTable) return;\n",
              "\n",
              "          const docLinkHtml = 'Like what you see? Visit the ' +\n",
              "            '<a target=\"_blank\" href=https://colab.research.google.com/notebooks/data_table.ipynb>data table notebook</a>'\n",
              "            + ' to learn more about interactive tables.';\n",
              "          element.innerHTML = '';\n",
              "          dataTable['output_type'] = 'display_data';\n",
              "          await google.colab.output.renderOutput(dataTable, element);\n",
              "          const docLink = document.createElement('div');\n",
              "          docLink.innerHTML = docLinkHtml;\n",
              "          element.appendChild(docLink);\n",
              "        }\n",
              "      </script>\n",
              "    </div>\n",
              "  </div>\n",
              "  "
            ]
          },
          "metadata": {},
          "execution_count": 10
        }
      ]
    },
    {
      "cell_type": "code",
      "source": [
        "real_price_teste = base_test.iloc[:,1:2].values"
      ],
      "metadata": {
        "id": "8YJ-MgBnXjid"
      },
      "execution_count": null,
      "outputs": []
    },
    {
      "cell_type": "code",
      "source": [
        "frames = [base,base_test]\n",
        "base_complet = pd.concat(frames)"
      ],
      "metadata": {
        "id": "a67t1vWuXunU"
      },
      "execution_count": null,
      "outputs": []
    },
    {
      "cell_type": "code",
      "source": [
        "base_complet = base_complet.drop('Date',axis=1)"
      ],
      "metadata": {
        "id": "mUjCn4XTPTfY"
      },
      "execution_count": null,
      "outputs": []
    },
    {
      "cell_type": "code",
      "source": [
        "outputs = base_complet[len(base_complet) - len(base_test) - 90:].values"
      ],
      "metadata": {
        "id": "lb3q98WdRIM_"
      },
      "execution_count": null,
      "outputs": []
    },
    {
      "cell_type": "code",
      "source": [
        "outputs = normalized.transform(outputs)"
      ],
      "metadata": {
        "id": "5-4rzqFdRYyc"
      },
      "execution_count": null,
      "outputs": []
    },
    {
      "cell_type": "code",
      "source": [
        "X_test = []\n",
        "for i in range(90,112):\n",
        "  X_test.append(outputs[i-90:i,0:6])\n",
        "X_test = np.array(X_test)"
      ],
      "metadata": {
        "id": "JCO0W1a-R19E"
      },
      "execution_count": null,
      "outputs": []
    },
    {
      "cell_type": "code",
      "source": [
        "predictors_tst = model.predict(X_test)"
      ],
      "metadata": {
        "colab": {
          "base_uri": "https://localhost:8080/"
        },
        "id": "mxnbuLmBSya7",
        "outputId": "1d8a5b89-3a35-41f1-d04a-d57951ea819b"
      },
      "execution_count": null,
      "outputs": [
        {
          "output_type": "stream",
          "name": "stdout",
          "text": [
            "1/1 [==============================] - 1s 1s/step\n"
          ]
        }
      ]
    },
    {
      "cell_type": "code",
      "source": [
        "predictors_tst = normalized_predictors.inverse_transform(predictors_tst)"
      ],
      "metadata": {
        "id": "it8e8GxSTsdo"
      },
      "execution_count": null,
      "outputs": []
    },
    {
      "cell_type": "code",
      "source": [
        "plt.plot(real_price_teste,color='red',label='Real Price')\n",
        "plt.plot(predictors_tst,color='blue',label='Predictions')\n",
        "plt.title('Stock Price Forecast')\n",
        "plt.xlabel('Time')\n",
        "plt.ylabel('Yahoo Values')\n",
        "plt.legend()\n",
        "plt.show()"
      ],
      "metadata": {
        "colab": {
          "base_uri": "https://localhost:8080/",
          "height": 295
        },
        "id": "sK1WUgVqUXKV",
        "outputId": "5564f8c2-5570-4322-f07f-bc8ca42bee9e"
      },
      "execution_count": null,
      "outputs": [
        {
          "output_type": "display_data",
          "data": {
            "text/plain": [
              "<Figure size 432x288 with 1 Axes>"
            ],
            "image/png": "[encoded data removed]"
          },
          "metadata": {
            "needs_background": "light"
          }
        }
      ]
    }
  ]
}