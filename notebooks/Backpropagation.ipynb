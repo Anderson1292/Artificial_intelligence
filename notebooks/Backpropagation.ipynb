{
  "nbformat": 4,
  "nbformat_minor": 0,
  "metadata": {
    "colab": {
      "provenance": [],
      "authorship_tag": "ABX9TyMZaNmr8DdDqbJF8eWG4qhm",
      "include_colab_link": true
    },
    "kernelspec": {
      "name": "python3",
      "display_name": "Python 3"
    },
    "language_info": {
      "name": "python"
    }
  },
  "cells": [
    {
      "cell_type": "markdown",
      "metadata": {
        "id": "view-in-github",
        "colab_type": "text"
      },
      "source": [
        "<a href=\"https://colab.research.google.com/github/Anderson1292/Artificial_intelligence/blob/main/notebooks/Backpropagation.ipynb\" target=\"_parent\"><img src=\"https://colab.research.google.com/assets/colab-badge.svg\" alt=\"Open In Colab\"/></a>"
      ]
    },
    {
      "cell_type": "code",
      "execution_count": null,
      "metadata": {
        "id": "ESsEuze-47lk"
      },
      "outputs": [],
      "source": [
        "import numpy as np\n",
        "import matplotlib.pyplot as plt\n",
        "\n",
        "%matplotlib inline"
      ]
    },
    {
      "cell_type": "code",
      "source": [
        "def forwardMultiplyGate(x,y):\n",
        "  return x*y"
      ],
      "metadata": {
        "id": "ntPHcrB35SYN"
      },
      "execution_count": null,
      "outputs": []
    },
    {
      "cell_type": "code",
      "source": [
        "#Estratégia 1: Busca Aleatória"
      ],
      "metadata": {
        "id": "3Vhb8rPx6tR6"
      },
      "execution_count": null,
      "outputs": []
    },
    {
      "cell_type": "code",
      "source": [
        "x,y = -2,3\n",
        "melhor_saida= forwardMultiplyGate(x,y)\n",
        "for x in range(0,100):\n",
        "  x_try = 5 * np.random.random() - 5\n",
        "  y_try = 5 * np.random.random() - 5\n",
        "  out = forwardMultiplyGate(x_try,y_try)\n",
        "\n",
        "  if out > melhor_saida:\n",
        "    melhor_saida = out\n",
        "    melhor_x,melhor_y = x_try,y_try\n",
        "\n",
        "print(melhor_x,melhor_y, forwardMultiplyGate(melhor_x,melhor_y))"
      ],
      "metadata": {
        "colab": {
          "base_uri": "https://localhost:8080/"
        },
        "id": "m0gGnNwU5b3F",
        "outputId": "fbe162fa-2ba8-4849-bc8b-c12c055b325a"
      },
      "execution_count": null,
      "outputs": [
        {
          "output_type": "stream",
          "name": "stdout",
          "text": [
            "-4.625870993778772 -4.684714254433806 21.67088378372729\n"
          ]
        }
      ]
    },
    {
      "cell_type": "code",
      "source": [
        "# Estratégia 2: Busca Aleatória Local\n",
        "\n",
        "x, y = -2,3\n",
        "passo = 0.01\n",
        "melhor_saida = forwardMultiplyGate(x,y)\n",
        "melhor_x,melhor_y =0,0\n",
        "for k in range(0,100):\n",
        "  x_try = x + passo * (2*np.random.random() - 1)\n",
        "  y_try = y + passo * (2*np.random.random() - 1)\n",
        "\n",
        "  if out > melhor_saida:\n",
        "    melhor_saida = out\n",
        "    melhor_x,melhor_y = x_try,y_try\n",
        "\n",
        "print(melhor_x,melhor_y,forwardMultiplyGate(melhor_x,melhor_y))"
      ],
      "metadata": {
        "colab": {
          "base_uri": "https://localhost:8080/"
        },
        "id": "3Cgt_aY767gz",
        "outputId": "ba0c69f5-ec19-4a26-e2ff-134ca5686c56"
      },
      "execution_count": null,
      "outputs": [
        {
          "output_type": "stream",
          "name": "stdout",
          "text": [
            "-2.0064875555316553 2.990604846066238 -6.000611407144569\n"
          ]
        }
      ]
    },
    {
      "cell_type": "code",
      "source": [
        "# Estratégia 3: Gradiente Numérico\n",
        "x,y = -2,3\n",
        "out = forwardMultiplyGate(x,y)\n",
        "h = 0.0001\n",
        "\n",
        "# derivada em relação a x\n",
        "out2 = forwardMultiplyGate(x+h,y)\n",
        "derivada_x = (out2 - out)/h\n",
        "\n",
        "# derivada em relação a y\n",
        "out3 = forwardMultiplyGate(y+h,x)\n",
        "derivada_y = (out3 - out)/h\n",
        "\n",
        "print(out2,out3)\n",
        "print(derivada_x,derivada_y)"
      ],
      "metadata": {
        "colab": {
          "base_uri": "https://localhost:8080/"
        },
        "id": "_HzSgdnM9VnG",
        "outputId": "f402a113-407b-4d2a-ae2d-324337eb72a5"
      },
      "execution_count": null,
      "outputs": [
        {
          "output_type": "stream",
          "name": "stdout",
          "text": [
            "-5.9997 -6.0002\n",
            "3.00000000000189 -2.0000000000042206\n"
          ]
        }
      ]
    },
    {
      "cell_type": "code",
      "source": [
        "x, y = -2,3\n",
        "passo = 0.1\n",
        "out = forwardMultiplyGate(x,y)\n",
        "x = x +  passo*derivada_x\n",
        "y = y + passo*derivada_y\n",
        "\n",
        "out_new = forwardMultiplyGate(x,y)\n",
        "print(out_new)"
      ],
      "metadata": {
        "colab": {
          "base_uri": "https://localhost:8080/"
        },
        "id": "rPSlRYm3_HHq",
        "outputId": "d11eac8a-fbbb-41f3-acc1-d0f26bf99c60"
      },
      "execution_count": null,
      "outputs": [
        {
          "output_type": "stream",
          "name": "stdout",
          "text": [
            "-4.759999999998754\n"
          ]
        }
      ]
    },
    {
      "cell_type": "code",
      "source": [
        "# Estratégia 4: Gradiente Analítico\n",
        "x,y = -2,3\n",
        "derivada_x = y\n",
        "derivada_y = x\n",
        "\n",
        "passo = 0.01\n",
        "\n",
        "x = x + passo*derivada_x\n",
        "y = y + passo*derivada_y\n",
        "\n",
        "out_new = forwardMultiplyGate(x,y)\n",
        "print(out_new)"
      ],
      "metadata": {
        "colab": {
          "base_uri": "https://localhost:8080/"
        },
        "id": "MOts3ODu_tTy",
        "outputId": "88fb96d0-0041-4d09-9277-79d354069a16"
      },
      "execution_count": null,
      "outputs": [
        {
          "output_type": "stream",
          "name": "stdout",
          "text": [
            "-5.8706\n"
          ]
        }
      ]
    },
    {
      "cell_type": "code",
      "source": [
        "# Caso Recursivo : Múltiplas Portas\n",
        "def forwardAddGate(x,y):\n",
        "  return x+y\n",
        "\n",
        "def forwardCircuit(x,y,z):\n",
        "  q = forwardAddGate(x,y)\n",
        "  f = forwardMultiplyGate(q,z)\n",
        "  return f\n",
        "\n",
        "print(forwardCircuit(-2,5,-4))"
      ],
      "metadata": {
        "colab": {
          "base_uri": "https://localhost:8080/"
        },
        "id": "5sS7krlWAySH",
        "outputId": "e46c6908-bb2a-46f6-8598-976e8852f13e"
      },
      "execution_count": null,
      "outputs": [
        {
          "output_type": "stream",
          "name": "stdout",
          "text": [
            "-12\n"
          ]
        }
      ]
    },
    {
      "cell_type": "code",
      "source": [
        "x,y,z = -2,5,-4\n",
        "q = forwardAddGate(x,y)\n",
        "f = forwardMultiplyGate(q,z)\n",
        "\n",
        "#derivada da porta de multiplicação\n",
        "dev_f_rel_z = q\n",
        "dev_f_rel_q = z\n",
        "\n",
        "#derivada da porta de adição\n",
        "dev_q_rel_x= 1\n",
        "dev_q_rel_y= 1\n",
        "\n",
        "#regra da cadeia\n",
        "dev_f_rel_x = dev_f_rel_q * dev_q_rel_x\n",
        "dev_f_rel_y = dev_f_rel_q * dev_q_rel_y\n",
        "\n",
        "print(dev_f_rel_x,dev_f_rel_y,dev_f_rel_z)"
      ],
      "metadata": {
        "colab": {
          "base_uri": "https://localhost:8080/"
        },
        "id": "8KYjoiavDYRJ",
        "outputId": "8316562a-bb78-45b8-d39b-adfaa76275eb"
      },
      "execution_count": null,
      "outputs": [
        {
          "output_type": "stream",
          "name": "stdout",
          "text": [
            "-4 -4 3\n"
          ]
        }
      ]
    },
    {
      "cell_type": "code",
      "source": [
        "grad_f_rel_xyz = [dev_f_rel_x,dev_f_rel_y,dev_f_rel_q]\n",
        "passo = 0.01\n",
        "\n",
        "x = x + passo*dev_f_rel_x\n",
        "y = y + passo*dev_f_rel_y\n",
        "z = z + passo*dev_f_rel_z\n",
        "\n",
        "print(forwardCircuit(x,y,z))"
      ],
      "metadata": {
        "colab": {
          "base_uri": "https://localhost:8080/"
        },
        "id": "mIIASJh7G226",
        "outputId": "9b453176-29e2-42cd-dc13-dc4ad2a07a0c"
      },
      "execution_count": null,
      "outputs": [
        {
          "output_type": "stream",
          "name": "stdout",
          "text": [
            "-11.5924\n"
          ]
        }
      ]
    },
    {
      "cell_type": "code",
      "source": [
        "#checagem do gradiente numérico\n",
        "x,y,z = -2,5,-4\n",
        "h = 0.0001\n",
        "\n",
        "der_x = (forwardCircuit(x+h,y,z) - forwardCircuit(x,y,z))/h\n",
        "der_y = (forwardCircuit(x,y+h,z) - forwardCircuit(x,y,z))/h\n",
        "der_z = (forwardCircuit(x,y,h+z) - forwardCircuit(x,y,z))/h\n",
        "\n",
        "print(der_x, der_y, der_z)"
      ],
      "metadata": {
        "id": "Vhn0PyvHIOex",
        "colab": {
          "base_uri": "https://localhost:8080/"
        },
        "outputId": "765aba62-226d-4bee-c84b-4619849d438d"
      },
      "execution_count": null,
      "outputs": [
        {
          "output_type": "stream",
          "name": "stdout",
          "text": [
            "-3.9999999999906777 -3.9999999999906777 3.000000000010772\n"
          ]
        }
      ]
    },
    {
      "cell_type": "code",
      "source": [
        "w0,w1,w2 = 2,-3,-3\n",
        "x0,x1 = -1,-2\n",
        "\n",
        "dot = w0*x0 + w1*x1 + w2\n",
        "f = 1.0/(1.0 + np.exp(-dot))\n",
        "\n",
        "df = +1.0\n",
        "ddot = ((1-f)*f) * df\n",
        "dx0 = w0 * ddot\n",
        "dx1 = w1 * ddot\n",
        "dw0 = x0 * ddot\n",
        "dw1 = x1 * ddot\n",
        "dw2 = 1.0 * ddot\n",
        "\n",
        "print(f'dx0:{dx0}, dx1:{dx1}, dw0:{dw0}, dw1:{dw1},dw2:{dw2}')"
      ],
      "metadata": {
        "colab": {
          "base_uri": "https://localhost:8080/"
        },
        "id": "8xxlOkiPy84q",
        "outputId": "2afaa440-5b8d-4434-d976-20f4fc1e849a"
      },
      "execution_count": null,
      "outputs": [
        {
          "output_type": "stream",
          "name": "stdout",
          "text": [
            "dx0:0.3932238664829637, dx1:-0.5898357997244456, dw0:-0.19661193324148185, dw1:-0.3932238664829637,dw2:0.19661193324148185\n"
          ]
        }
      ]
    },
    {
      "cell_type": "code",
      "source": [
        "step = 0.001\n",
        "x0 = x0 + step*dx0\n",
        "x1 = x1 + step*dx1\n",
        "w0 = w0 + step*dw0\n",
        "w1 = w1 + step*dw1\n",
        "w2 = w2 + step*dw2\n",
        "\n",
        "new_dot = w0*x0 + w1*x1 + w2\n",
        "new_f = 1.0/(1.0 + np.exp(-new_dot))\n",
        "\n",
        "print(f,new_f)"
      ],
      "metadata": {
        "colab": {
          "base_uri": "https://localhost:8080/"
        },
        "id": "8CDQKzYP2SSU",
        "outputId": "729bbfab-a73d-43ef-dadd-40cd04a08c29"
      },
      "execution_count": null,
      "outputs": [
        {
          "output_type": "stream",
          "name": "stdout",
          "text": [
            "0.7310585786300049 0.731792443510539\n"
          ]
        }
      ]
    },
    {
      "cell_type": "code",
      "source": [
        "#neuronio sigmoid\n",
        "\n",
        "w0,w1,w2 = 2,-3,-3\n",
        "x0,x1 = -1,-2\n",
        "\n",
        "mult1= x0*w0    #(1)\n",
        "mult2 = x1*w1   #(2)\n",
        "add1 = mult1 + mult2  #(3)\n",
        "add2 = add1 + w2  #(4)\n",
        "neg = -1.0 * add2  #(5)\n",
        "expl = np.exp(neg)  #(6)\n",
        "add3 = 1.0 + expl   #(7)\n",
        "f = 1.0 / add3    #(8)\n",
        "\n",
        "print(mult1,mult2,add1,add2,neg,expl,add3,f,sep='\\n',end='\\n')"
      ],
      "metadata": {
        "colab": {
          "base_uri": "https://localhost:8080/"
        },
        "id": "gU5cDINO3QtS",
        "outputId": "edca0809-819d-43d5-d54f-3a309148fb59"
      },
      "execution_count": null,
      "outputs": [
        {
          "output_type": "stream",
          "name": "stdout",
          "text": [
            "-2\n",
            "6\n",
            "4\n",
            "1\n",
            "-1.0\n",
            "0.36787944117144233\n",
            "1.3678794411714423\n",
            "0.7310585786300049\n"
          ]
        }
      ]
    },
    {
      "cell_type": "code",
      "source": [
        "df = +1.0\n",
        "\n",
        "der_dd3 = -1.0 /(add3*add3) * df #(8)\n",
        "der_expl = 1.0 * der_dd3 #(7)\n",
        "der_neg = np.exp(neg) * der_expl #(6)\n",
        "der_add2 = -1.0 * der_neg #(5)\n",
        "der_w2 = 1.0 * der_add2 #(4)\n",
        "der_add1 = 1.0 * der_add2 #(4)\n",
        "der_mult1 = 1.0 * der_add1 #(3)\n",
        "der_mult2 = 1.0 * der_add1 #(3)\n",
        "der_x1 = w1 * der_mult2 #(2)\n",
        "der_w1 = x1 * der_mult2 #(2)\n",
        "der_w0 = x0 * der_mult1 #(1)\n",
        "der_x0 = w0 * der_mult1 #(1)\n",
        "\n",
        "print(df,der_dd3,der_expl,der_neg,der_add2,der_w2,der_add1,der_mult1,der_mult2,der_w1,der_x1,der_w0,der_x0,sep='\\n')"
      ],
      "metadata": {
        "colab": {
          "base_uri": "https://localhost:8080/"
        },
        "id": "CQ4gTOgwb6rv",
        "outputId": "34dcbc7e-ffe7-4a76-c453-93b1fa4b6dbd"
      },
      "execution_count": null,
      "outputs": [
        {
          "output_type": "stream",
          "name": "stdout",
          "text": [
            "1.0\n",
            "-0.534446645388523\n",
            "-0.534446645388523\n",
            "-0.19661193324148188\n",
            "0.19661193324148188\n",
            "0.19661193324148188\n",
            "0.19661193324148188\n",
            "0.19661193324148188\n",
            "0.19661193324148188\n",
            "-0.39322386648296376\n",
            "-0.5898357997244457\n",
            "-0.19661193324148188\n",
            "0.39322386648296376\n"
          ]
        }
      ]
    },
    {
      "cell_type": "code",
      "source": [
        "#Exemplo 2\n",
        "\n",
        "x,y = 3,-4               # f(x,y) = (x + sig(y))/ (sig(x) + (x+y)²)\n",
        "# forward pass\n",
        "sig_y = 1.0/(1.0 + np.exp(-y)) #(1)\n",
        "sig_x = 1.0/(1.0 + np.exp(-x)) #(2)\n",
        "prod = x+y #(3)\n",
        "prod2 = prod*prod #(4)\n",
        "num = x + sig_y #(5)\n",
        "den = sig_x + prod2  #(6)\n",
        "inverse = 1.0/den #(7)\n",
        "f = num * inverse #(8)\n",
        "\n",
        "print(sig_y,sig_x,prod,num,den,inverse,f,sep='\\n')"
      ],
      "metadata": {
        "colab": {
          "base_uri": "https://localhost:8080/"
        },
        "id": "EPACW-HakXlM",
        "outputId": "482a7d8e-a69b-4775-8a26-008acff0930f"
      },
      "execution_count": null,
      "outputs": [
        {
          "output_type": "stream",
          "name": "stdout",
          "text": [
            "0.01798620996209156\n",
            "0.9525741268224334\n",
            "-1\n",
            "3.0179862099620918\n",
            "1.9525741268224333\n",
            "0.5121444488396316\n",
            "1.5456448841066441\n"
          ]
        }
      ]
    },
    {
      "cell_type": "code",
      "source": [
        "# backward pass\n",
        "df = +1.0\n",
        "dnum = inverse*df #(8)\n",
        "dinv = num*df #(8)\n",
        "dden = (-1.0/(den**2)) * dinv #(7)\n",
        "dsigx = 1.0 * dden #(6)\n",
        "dprod2 = 1.0 * dden #(6)\n",
        "dx = 1.0 * dnum #(5)\n",
        "dsigy = 1.0 *dnum #(5)\n",
        "dprod = 2.0 * prod * dprod2 #(4)\n",
        "dx += 1.0 * dprod #(3)\n",
        "dy = 1.0 * dprod #(3)\n",
        "dx += ((-1.0 * sig_x)*sig_x) * dsigx #(2)\n",
        "dy += ((-1.0 * sig_y)*sig_y) * dsigy #(1)\n",
        "\n",
        "print(df,dnum,dinv,dden,dsigx,dprod2,dx,dsigy,dprod,dx,dy,dx,dy,sep='\\n')\n",
        "# print(df,der_num,der_inverse,der_den,der_sig_x,der_prod2,der_x,der_sig_y,der_prod,der_x,der_y,der_x,der_y,sep='\\n')"
      ],
      "metadata": {
        "colab": {
          "base_uri": "https://localhost:8080/"
        },
        "id": "GmdmVFDCwJLY",
        "outputId": "b232266a-b780-49fa-a8bc-f0af4c2947e3"
      },
      "execution_count": null,
      "outputs": [
        {
          "output_type": "stream",
          "name": "stdout",
          "text": [
            "1.0\n",
            "0.5121444488396316\n",
            "3.0179862099620918\n",
            "-0.7915934472725935\n",
            "-0.7915934472725935\n",
            "-0.7915934472725935\n",
            "2.8136212324062155\n",
            "0.5121444488396316\n",
            "1.583186894545187\n",
            "2.8136212324062155\n",
            "1.58302121389606\n",
            "2.8136212324062155\n",
            "1.58302121389606\n"
          ]
        }
      ]
    }
  ]
}