{
  "nbformat": 4,
  "nbformat_minor": 0,
  "metadata": {
    "colab": {
      "provenance": [],
      "authorship_tag": "ABX9TyOd6IVxbIMKWSylZ0onTA4h",
      "include_colab_link": true
    },
    "kernelspec": {
      "name": "python3",
      "display_name": "Python 3"
    },
    "language_info": {
      "name": "python"
    }
  },
  "cells": [
    {
      "cell_type": "markdown",
      "metadata": {
        "id": "view-in-github",
        "colab_type": "text"
      },
      "source": [
        "<a href=\"https://colab.research.google.com/github/Anderson1292/Artificial_intelligence/blob/main/Algoritmos_de_busca.ipynb\" target=\"_parent\"><img src=\"https://colab.research.google.com/assets/colab-badge.svg\" alt=\"Open In Colab\"/></a>"
      ]
    },
    {
      "cell_type": "code",
      "source": [
        "#Grafo\n",
        "class Vertice:\n",
        "  def __init__(self,rotulo,distancia_objetivo):\n",
        "    self.rotulo = rotulo\n",
        "    self.visitado = False\n",
        "    self.distancia_objetivo = distancia_objetivo\n",
        "    self.adjacentes = []\n",
        "\n",
        "  def adiciona_adjcente(self,adjacente):\n",
        "    self.adjacentes.append(adjacente)\n",
        "\n",
        "  def mostra_adjacentes(self):\n",
        "    for i in self.adjacentes:\n",
        "      print(i.vertice.rotulo,i.custo)"
      ],
      "metadata": {
        "id": "GxyxG8e8EUi_"
      },
      "execution_count": null,
      "outputs": []
    },
    {
      "cell_type": "code",
      "source": [
        "class Adjacente:\n",
        "  def __init__(self,vertice,custo):\n",
        "    self.vertice = vertice\n",
        "    self.custo = custo\n",
        "    self.distancia_aestrela = vertice.distancia_objetivo + self.custo"
      ],
      "metadata": {
        "id": "4tkzoAPkXHeN"
      },
      "execution_count": null,
      "outputs": []
    },
    {
      "cell_type": "code",
      "source": [
        "class Grafo:\n",
        "  arad = Vertice('Arad',366)\n",
        "  zerind = Vertice('Zerind',374)\n",
        "  oradea = Vertice('Oradea',380)\n",
        "  sibiu = Vertice('Sibiu',253)\n",
        "  timisoara = Vertice('Timisoara',329)\n",
        "  lugoj = Vertice('Lugoj',244)\n",
        "  mehadia = Vertice('Mehadia',241)\n",
        "  dobreta = Vertice('Dobreta',242)\n",
        "  craiova = Vertice('Craiova',160)\n",
        "  rimnicu = Vertice('Rimnicu',193)\n",
        "  fagaras = Vertice('Fagaras',178)\n",
        "  pitesti = Vertice('Pitesti',98)\n",
        "  bucharest = Vertice('Bucharest',0)\n",
        "  giurgiu = Vertice('Giurgiu',77)\n",
        "\n",
        "  arad.adiciona_adjcente(Adjacente(zerind,75))\n",
        "  arad.adiciona_adjcente(Adjacente(sibiu,140))\n",
        "  arad.adiciona_adjcente(Adjacente(timisoara,118))\n",
        "\n",
        "  zerind.adiciona_adjcente(Adjacente(arad,75))\n",
        "  zerind.adiciona_adjcente(Adjacente(sibiu,71))\n",
        "\n",
        "  oradea.adiciona_adjcente(Adjacente(zerind,71))\n",
        "  oradea.adiciona_adjcente(Adjacente(sibiu,175))\n",
        "\n",
        "  sibiu.adiciona_adjcente(Adjacente(oradea,151))\n",
        "  sibiu.adiciona_adjcente(Adjacente(arad,140))\n",
        "  sibiu.adiciona_adjcente(Adjacente(fagaras,99))\n",
        "  sibiu.adiciona_adjcente(Adjacente(rimnicu,80))\n",
        "\n",
        "  timisoara.adiciona_adjcente(Adjacente(arad,118))\n",
        "  timisoara.adiciona_adjcente(Adjacente(lugoj,111))\n",
        "\n",
        "  lugoj.adiciona_adjcente(Adjacente(timisoara,111))\n",
        "  lugoj.adiciona_adjcente(Adjacente(mehadia,70))\n",
        "\n",
        "  mehadia.adiciona_adjcente(Adjacente(lugoj,70))\n",
        "  mehadia.adiciona_adjcente(Adjacente(dobreta,75))\n",
        "\n",
        "  dobreta.adiciona_adjcente(Adjacente(mehadia,75))\n",
        "  dobreta.adiciona_adjcente(Adjacente(craiova,120))\n",
        "\n",
        "  craiova.adiciona_adjcente(Adjacente(dobreta,120))\n",
        "  craiova.adiciona_adjcente(Adjacente(pitesti,138))\n",
        "  craiova.adiciona_adjcente(Adjacente(rimnicu,146))\n",
        "\n",
        "  rimnicu.adiciona_adjcente(Adjacente(craiova,146))\n",
        "  rimnicu.adiciona_adjcente(Adjacente(sibiu,80))\n",
        "  rimnicu.adiciona_adjcente(Adjacente(pitesti,97))\n",
        "\n",
        "  fagaras.adiciona_adjcente(Adjacente(sibiu,99))\n",
        "  fagaras.adiciona_adjcente(Adjacente(bucharest,211))\n",
        "\n",
        "  pitesti.adiciona_adjcente(Adjacente(rimnicu,97))\n",
        "  pitesti.adiciona_adjcente(Adjacente(craiova,138))\n",
        "  pitesti.adiciona_adjcente(Adjacente(bucharest,101))\n",
        "\n",
        "  bucharest.adiciona_adjcente(Adjacente(fagaras,151))\n",
        "  bucharest.adiciona_adjcente(Adjacente(pitesti,151))\n",
        "  bucharest.adiciona_adjcente(Adjacente(giurgiu,151))\n"
      ],
      "metadata": {
        "id": "yeBdmux1WMaz"
      },
      "execution_count": null,
      "outputs": []
    },
    {
      "cell_type": "code",
      "source": [
        "grafo = Grafo()"
      ],
      "metadata": {
        "id": "AKBiyITpdHm4"
      },
      "execution_count": null,
      "outputs": []
    },
    {
      "cell_type": "code",
      "source": [
        "import numpy as np\n",
        "class vetorOrdenado:\n",
        "  def __init__(self,capacidade):\n",
        "    self.capacidade = capacidade\n",
        "    self.ultima_posicao = -1\n",
        "    # mudança no tipo de dados\n",
        "    self.valores = np.empty(self.capacidade,dtype=object)\n",
        "\n",
        "    # Referência para o vértice e comparação com a distância para o objetivo\n",
        "  def insere(self,adjacente):\n",
        "\n",
        "    if self.ultima_posicao == self.capacidade - 1:\n",
        "      print('Capacidade maxima atingida')\n",
        "      return\n",
        "    posicao= 0\n",
        "    for i in range(self.ultima_posicao + 1):\n",
        "      posicao=i\n",
        "      if self.valores[i].distancia_aestrela > adjacente.distancia_aestrela:\n",
        "        break\n",
        "      if i == self.ultima_posicao:\n",
        "        posicao = i + 1\n",
        "    x = self.ultima_posicao\n",
        "    while x >= posicao:\n",
        "      self.valores[x+1] = self.valores[x]\n",
        "      x -= 1\n",
        "\n",
        "    self.valores[posicao] = adjacente\n",
        "    self.ultima_posicao += 1\n",
        "\n",
        "  def imprime(self):\n",
        "    if self.ultima_posicao == -1:\n",
        "      print('O vetor está vazio')\n",
        "    else:\n",
        "      for i in range(self.ultima_posicao + 1):\n",
        "        print(i, '-' ,self.valores[i].vertice.rotulo,'-',\n",
        "              self.valores[i].custo,'-',self.valores[i].vertice.distancia_objetivo,'-',\n",
        "              self.valores[i].distancia_aestrela)\n",
        "\n"
      ],
      "metadata": {
        "id": "cBMK9nvZkWOW"
      },
      "execution_count": null,
      "outputs": []
    },
    {
      "cell_type": "code",
      "source": [
        "vetor = vetorOrdenado(5)\n",
        "vetor.insere(grafo.arad)\n",
        "vetor.insere(grafo.dobreta)\n",
        "vetor.insere(grafo.bucharest)\n",
        "vetor.insere(grafo.pitesti)"
      ],
      "metadata": {
        "id": "mcDVst-_6X4x"
      },
      "execution_count": null,
      "outputs": []
    },
    {
      "cell_type": "code",
      "source": [
        "vetor = vetorOrdenado(3)\n",
        "vetor.insere(grafo.arad.adjacentes[0])\n",
        "vetor.insere(grafo.arad.adjacentes[1])\n",
        "vetor.insere(grafo.arad.adjacentes[2])"
      ],
      "metadata": {
        "id": "YZCKau3zTvPp"
      },
      "execution_count": null,
      "outputs": []
    },
    {
      "cell_type": "code",
      "source": [
        "vetor.imprime()"
      ],
      "metadata": {
        "colab": {
          "base_uri": "https://localhost:8080/"
        },
        "id": "CXt__i4sbVnp",
        "outputId": "47316612-be2b-4a02-f1c6-f22af3c7d405"
      },
      "execution_count": null,
      "outputs": [
        {
          "output_type": "stream",
          "name": "stdout",
          "text": [
            "0 - Sibiu - 140 - 253 - 393\n",
            "1 - Timisoara - 118 - 329 - 447\n",
            "2 - Zerind - 75 - 374 - 449\n"
          ]
        }
      ]
    },
    {
      "cell_type": "code",
      "source": [
        "class Gulosa:\n",
        "\n",
        "  def __init__(self,objetivo):\n",
        "    self.objetivo = objetivo\n",
        "    self.encontrado = False\n",
        "\n",
        "  def buscar(self,atual):\n",
        "    print('---------')\n",
        "    print('Atual: {}'.format(atual.rotulo))\n",
        "    self.visitado = True\n",
        "\n",
        "    if atual == self.objetivo:\n",
        "      self.encontrado = True\n",
        "    else:\n",
        "      vetor_ordenado = vetorOrdenado(len(atual.adjacentes))\n",
        "      for adjacente in atual.adjacentes:\n",
        "        if adjacente.vertice.visitado == False:\n",
        "          adjacente.vertice.visitado == True\n",
        "          vetor_ordenado.insere(adjacente.vertice)\n",
        "      vetor_ordenado.imprime()\n",
        "\n",
        "      if vetor_ordenado.valores[0] != None:\n",
        "        self.buscar(vetor_ordenado.valores[0])"
      ],
      "metadata": {
        "id": "rBLaHLBUByjL"
      },
      "execution_count": null,
      "outputs": []
    },
    {
      "cell_type": "code",
      "source": [
        "# busca_gulosa = Gulosa(grafo.bucharest)\n",
        "# busca_gulosa.buscar(grafo.arad)"
      ],
      "metadata": {
        "id": "BCKBhT0yD11U"
      },
      "execution_count": null,
      "outputs": []
    },
    {
      "cell_type": "code",
      "source": [
        "class AEstrela:\n",
        "  def __init__(self,objetivo):\n",
        "    self.objetivo = objetivo\n",
        "    self.encontrado = False\n",
        "\n",
        "  def buscar(self,atual):\n",
        "    print('----------')\n",
        "    print('Atual: {}'.format(atual.rotulo))\n",
        "    atual.visitado = True\n",
        "\n",
        "    if atual == self.objetivo:\n",
        "      self.encontrado = True\n",
        "    else:\n",
        "      vetor_ordenado = vetorOrdenado(len(atual.adjacentes))\n",
        "\n",
        "      for adjacente in atual.adjacentes:\n",
        "        if adjacente.vertice.visitado == False:\n",
        "          adjacente.vertice.visitado == True\n",
        "          vetor_ordenado.insere(adjacente)\n",
        "      vetor_ordenado.imprime()\n",
        "\n",
        "      if vetor_ordenado.valores[0] != None:\n",
        "        self.buscar(vetor_ordenado.valores[0].vertice)"
      ],
      "metadata": {
        "id": "I1RemVw8Tbd9"
      },
      "execution_count": null,
      "outputs": []
    },
    {
      "cell_type": "code",
      "source": [
        "busca_aestrela = AEstrela(grafo.bucharest)\n",
        "busca_aestrela.buscar(grafo.arad)"
      ],
      "metadata": {
        "colab": {
          "base_uri": "https://localhost:8080/"
        },
        "id": "5MAaiJcCWOog",
        "outputId": "34f969fa-fc30-491c-bb30-01c4f0be75ad"
      },
      "execution_count": null,
      "outputs": [
        {
          "output_type": "stream",
          "name": "stdout",
          "text": [
            "----------\n",
            "Atual: Arad\n",
            "0 - Sibiu - 140 - 253 - 393\n",
            "1 - Timisoara - 118 - 329 - 447\n",
            "2 - Zerind - 75 - 374 - 449\n",
            "----------\n",
            "Atual: Sibiu\n",
            "0 - Rimnicu - 80 - 193 - 273\n",
            "1 - Fagaras - 99 - 178 - 277\n",
            "2 - Oradea - 151 - 380 - 531\n",
            "----------\n",
            "Atual: Rimnicu\n",
            "0 - Pitesti - 97 - 98 - 195\n",
            "1 - Craiova - 146 - 160 - 306\n",
            "----------\n",
            "Atual: Pitesti\n",
            "0 - Bucharest - 101 - 0 - 101\n",
            "1 - Craiova - 138 - 160 - 298\n",
            "----------\n",
            "Atual: Bucharest\n"
          ]
        }
      ]
    },
    {
      "cell_type": "code",
      "source": [],
      "metadata": {
        "id": "gaHQWHMHF7cG"
      },
      "execution_count": null,
      "outputs": []
    }
  ]
}